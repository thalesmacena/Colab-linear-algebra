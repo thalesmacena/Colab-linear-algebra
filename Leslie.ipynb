{
  "nbformat": 4,
  "nbformat_minor": 0,
  "metadata": {
    "colab": {
      "name": "Leslie.ipynb",
      "provenance": [],
      "collapsed_sections": [],
      "include_colab_link": true
    },
    "kernelspec": {
      "name": "python3",
      "display_name": "Python 3"
    }
  },
  "cells": [
    {
      "cell_type": "markdown",
      "metadata": {
        "id": "view-in-github",
        "colab_type": "text"
      },
      "source": [
        "<a href=\"https://colab.research.google.com/github/thalesmacena/Colab-linear-algebra/blob/master/Leslie.ipynb\" target=\"_parent\"><img src=\"https://colab.research.google.com/assets/colab-badge.svg\" alt=\"Open In Colab\"/></a>"
      ]
    },
    {
      "cell_type": "code",
      "metadata": {
        "id": "YFlXaul0FxSv",
        "colab_type": "code",
        "colab": {
          "base_uri": "https://localhost:8080/",
          "height": 260
        },
        "outputId": "5d735c63-ba4d-47b5-d5a5-944ea19eadd5"
      },
      "source": [
        "import numpy as np\n",
        "import numpy.linalg\n",
        "import pprint\n",
        "\n",
        "#v = np.array([1,1,1])\n",
        "#B = np.diag(v)\n",
        "#A = np.zeros([3,3])\n",
        "#print(A, \"\\n\")\n",
        "#print (B)\n",
        "\n",
        "print (\"Entre com o numero de faixas etarias \\n\")\n",
        "x = input()\n",
        "x = int(x)\n",
        "\n",
        "L = np.zeros([x,x])\n",
        "try:\n",
        "  for k in range (0,x-1):  \n",
        "    print (\"Faixa etária nº:\", k+1 ,\". Entre com sua taxa de natalidade\")\n",
        "    L[0,k] = input()\n",
        "    print (\"Faixa etária nº:\", k+1 ,\". Entre com sua taxa de Sobrevivência\")\n",
        "    L[k+1,k] = input()\n",
        "except:\n",
        "  print(\"\")\n",
        "print(L)"
      ],
      "execution_count": null,
      "outputs": [
        {
          "output_type": "stream",
          "text": [
            "Entre com o numero de faixas etarias \n",
            "\n",
            "3\n",
            "Faixa etária nº: 0 . Entre com sua taxa de natalidade\n",
            "0\n",
            "Faixa etária nº: 0 . Entre com sua taxa de Sobrevivência\n",
            "0.53\n",
            "Faixa etária nº: 1 . Entre com sua taxa de natalidade\n",
            "7\n",
            "Faixa etária nº: 1 . Entre com sua taxa de Sobrevivência\n",
            "0.22\n",
            "[[0.   7.   0.  ]\n",
            " [0.53 0.   0.  ]\n",
            " [0.   0.22 0.  ]]\n"
          ],
          "name": "stdout"
        }
      ]
    }
  ]
}
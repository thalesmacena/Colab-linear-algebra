{
  "nbformat": 4,
  "nbformat_minor": 0,
  "metadata": {
    "colab": {
      "name": "Gram Schmidt.ipynb",
      "version": "0.3.2",
      "provenance": [],
      "collapsed_sections": [],
      "include_colab_link": true
    },
    "kernelspec": {
      "name": "python3",
      "display_name": "Python 3"
    }
  },
  "cells": [
    {
      "cell_type": "markdown",
      "metadata": {
        "id": "view-in-github",
        "colab_type": "text"
      },
      "source": [
        "<a href=\"https://colab.research.google.com/github/thalespieirini/Colab-linear-algebra/blob/master/Gram_Schmidt.ipynb\" target=\"_parent\"><img src=\"https://colab.research.google.com/assets/colab-badge.svg\" alt=\"Open In Colab\"/></a>"
      ]
    },
    {
      "cell_type": "code",
      "metadata": {
        "id": "2QGffbDCSY14",
        "colab_type": "code",
        "colab": {}
      },
      "source": [
        "import numpy as np\n",
        "import matplotlib.pyplot as plt\n",
        "np.set_printoptions(precision=3)\n",
        "np.set_printoptions(suppress=True)"
      ],
      "execution_count": 0,
      "outputs": []
    },
    {
      "cell_type": "markdown",
      "metadata": {
        "id": "Ezyz1Ct39iRD",
        "colab_type": "text"
      },
      "source": [
        "#Participantes\n",
        "Thales Monteiro Pierini Macena, DRE: 116194266\n",
        "Sidney Alves de Outeiro, DRE: 118201873\n"
      ]
    },
    {
      "cell_type": "markdown",
      "metadata": {
        "id": "9CprlARE3bTL",
        "colab_type": "text"
      },
      "source": [
        "# Funções básicas"
      ]
    },
    {
      "cell_type": "code",
      "metadata": {
        "id": "ccs88VtYys-y",
        "colab_type": "code",
        "colab": {}
      },
      "source": [
        "def normalizar(v):\n",
        "  return v/np.linalg.norm(v)\n",
        "def projecao(v,w): #w tem que ser unitário\n",
        "  return (np.transpose(v)@w)*w"
      ],
      "execution_count": 0,
      "outputs": []
    },
    {
      "cell_type": "markdown",
      "metadata": {
        "id": "AkRvgIIo3llX",
        "colab_type": "text"
      },
      "source": [
        "#Gram-Schmidt 2D\n"
      ]
    },
    {
      "cell_type": "code",
      "metadata": {
        "id": "N4CmLqJykdQC",
        "colab_type": "code",
        "outputId": "351d13d8-a396-4197-f582-c021b5d040b2",
        "colab": {
          "base_uri": "https://localhost:8080/",
          "height": 34
        }
      },
      "source": [
        "v1 = np.array([-2.0,-1.0])\n",
        "v2 = np.array([3.0,1.0])\n",
        "q1 = normalizar(v1)\n",
        "q2 = normalizar(np.subtract(v2,projecao(v2,q1)))\n",
        "print(2**2)"
      ],
      "execution_count": 0,
      "outputs": [
        {
          "output_type": "stream",
          "text": [
            "4\n"
          ],
          "name": "stdout"
        }
      ]
    },
    {
      "cell_type": "markdown",
      "metadata": {
        "id": "isFfLGa433kG",
        "colab_type": "text"
      },
      "source": [
        "#Valiadação"
      ]
    },
    {
      "cell_type": "code",
      "metadata": {
        "id": "sn29DGJFlMpg",
        "colab_type": "code",
        "outputId": "1c83a692-c2d7-4c43-d161-7da9bfc7d874",
        "colab": {
          "base_uri": "https://localhost:8080/",
          "height": 86
        }
      },
      "source": [
        "x = (np.transpose(q1)@q2)\n",
        "y = (np.transpose(q1)@q1)\n",
        "z = (np.transpose(q2)@q2)\n",
        "print(x,y,z)\n",
        "if x >= -10**-5 and x <= 10**-5:\n",
        "  print(\"x ta ok\")\n",
        "  if y >= 1-10**-5 and y <= 1+10**-5:\n",
        "      print(\"y ta ok\")  \n",
        "      if z >= 1-10**-5 and z <= 1+10**-5:\n",
        "        print(\"ta tudo ok\")\n",
        "else:\n",
        "   print(\"nao ta ok\")"
      ],
      "execution_count": 0,
      "outputs": [
        {
          "output_type": "stream",
          "text": [
            "-4.440892098500626e-16 0.9999999999999999 1.0\n",
            "x ta ok\n",
            "y ta ok\n",
            "ta tudo ok\n"
          ],
          "name": "stdout"
        }
      ]
    },
    {
      "cell_type": "markdown",
      "metadata": {
        "id": "1wYZuCCA3_lv",
        "colab_type": "text"
      },
      "source": [
        "#Representação geométrica"
      ]
    },
    {
      "cell_type": "code",
      "metadata": {
        "id": "SkfBcX0w8MQ3",
        "colab_type": "code",
        "colab": {}
      },
      "source": [
        "v1 = np.array([-2.0,-1.0])\n",
        "v2 = np.array([3.0,1.0])"
      ],
      "execution_count": 0,
      "outputs": []
    },
    {
      "cell_type": "code",
      "metadata": {
        "id": "myRu_r_CUIO6",
        "colab_type": "code",
        "outputId": "5f0b3fe6-a0a6-410c-87ec-de4d3b64e21b",
        "colab": {
          "base_uri": "https://localhost:8080/",
          "height": 269
        }
      },
      "source": [
        "ax = plt.axes()\n",
        "\n",
        "ax.arrow(0, 0, *v1, head_width=0.05, head_length=0.1)\n",
        "ax.arrow(0, 0, *v2, head_width=0.05, head_length=0.1)\n",
        "\n",
        "ax.arrow(0, 0, *q1, head_width=0.05, head_length=0.1,color='green')\n",
        "ax.arrow(0, 0, *q2, head_width=0.05, head_length=0.1,color='green')\n",
        "plt.ylim(-5,5)\n",
        "plt.xlim(-5,5)\n",
        "plt.gca().set_aspect('equal', adjustable='box')\n",
        "plt.show()"
      ],
      "execution_count": 0,
      "outputs": [
        {
          "output_type": "display_data",
          "data": {
            "image/png": "[encoded data removed]",
            "text/plain": [
              "<Figure size 432x288 with 1 Axes>"
            ]
          },
          "metadata": {
            "tags": []
          }
        }
      ]
    },
    {
      "cell_type": "markdown",
      "metadata": {
        "id": "i222suFrV0Rp",
        "colab_type": "text"
      },
      "source": [
        "# Gram-Schmidt 3D\n",
        "\n"
      ]
    },
    {
      "cell_type": "code",
      "metadata": {
        "id": "3IpRJZi0rGgb",
        "colab_type": "code",
        "colab": {}
      },
      "source": [
        "v1 = np.array([-3.0,-1.0,4.0])\n",
        "v2 = np.array([2.0,1.0,5.0])\n",
        "v3 = np.array([1.0,9.0,2.0])\n",
        "q1 = normalizar(v1)\n",
        "q2 = normalizar(v2-projecao(v2,q1))\n",
        "q3 = normalizar(v3-(projecao(v3,q1)+projecao(v3,q2)))"
      ],
      "execution_count": 0,
      "outputs": []
    },
    {
      "cell_type": "markdown",
      "metadata": {
        "id": "lmTqffd25HkG",
        "colab_type": "text"
      },
      "source": [
        "#Validação"
      ]
    },
    {
      "cell_type": "code",
      "metadata": {
        "id": "cuXK8ODFsXbY",
        "colab_type": "code",
        "outputId": "3b3998eb-d6e8-4461-b062-06e53708aa0b",
        "colab": {
          "base_uri": "https://localhost:8080/",
          "height": 121
        }
      },
      "source": [
        "t1 = (np.transpose(q1)@q2)\n",
        "t2 = (np.transpose(q1)@q1)\n",
        "t3 = (np.transpose(q2)@q2)\n",
        "t4 = (np.transpose(q3)@q1)\n",
        "t5 = (np.transpose(q3)@q3)\n",
        "print(x,y,z)\n",
        "if t1 >= -10**-5 and t1 <= 10**-5:\n",
        "  \n",
        "  if t2 >= 1-10**-5 and t2 <= 1+10**-5:\n",
        "      \n",
        "      if t3 >= 1-10**-5 and t3 <= 1+10**-5:\n",
        "       \n",
        "        if t4 >= -10**-5 and t4 <= 10**-5:\n",
        "          \n",
        "          if t5 >= 1-10**-5 and t5 <= 1+10**-5:\n",
        "            print(\"passou em tudo\")\n",
        "else:\n",
        "   print(\"nao passou\")"
      ],
      "execution_count": 0,
      "outputs": [
        {
          "output_type": "stream",
          "text": [
            "-4.440892098500626e-16 0.9999999999999999 1.0\n",
            "x ta ok\n",
            "y ta ok\n",
            "ta tudo ok\n",
            "ja deu irmao\n",
            "passou tudo\n"
          ],
          "name": "stdout"
        }
      ]
    },
    {
      "cell_type": "markdown",
      "metadata": {
        "id": "NaolEhl98gDF",
        "colab_type": "text"
      },
      "source": [
        "#Representação geométrica\n",
        "\n",
        "Opicional já que é um desafio desenhar em 3D"
      ]
    }
  ]
}
